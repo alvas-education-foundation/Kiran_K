{
  "nbformat": 4,
  "nbformat_minor": 0,
  "metadata": {
    "colab": {
      "name": "coding solution.ipynb",
      "provenance": [],
      "collapsed_sections": []
    },
    "kernelspec": {
      "name": "python3",
      "display_name": "Python 3"
    }
  },
  "cells": [
    {
      "cell_type": "markdown",
      "metadata": {
        "id": "byCNIccr1Q3H",
        "colab_type": "text"
      },
      "source": [
        "Hash of a file"
      ]
    },
    {
      "cell_type": "code",
      "metadata": {
        "id": "FbDxW6Gq1PqL",
        "colab_type": "code",
        "colab": {
          "base_uri": "https://localhost:8080/",
          "height": 34
        },
        "outputId": "f08f0734-a272-4f60-d196-01ceb8f01b6e"
      },
      "source": [
        "# Python rogram to find the SHA-1 message digest of a file\n",
        "\n",
        "# importing the hashlib module\n",
        "import hashlib\n",
        "\n",
        "def hash_file(filename):\n",
        "   \"\"\"\"This function returns the SHA-1 hash\n",
        "   of the file passed into it\"\"\"\n",
        "\n",
        "   # make a hash object\n",
        "   h = hashlib.sha1()\n",
        "\n",
        "   # open file for reading in binary mode\n",
        "   with open(filename,'rb') as file:\n",
        "\n",
        "       # loop till the end of the file\n",
        "       chunk = 0\n",
        "       while chunk != b'':\n",
        "           # read only 1024 bytes at a time\n",
        "           chunk = file.read(1024)\n",
        "           h.update(chunk)\n",
        "\n",
        "   # return the hex representation of digest\n",
        "   return h.hexdigest()\n",
        "\n",
        "message = hash_file(\"track1.mp3\")\n",
        "print(message)"
      ],
      "execution_count": null,
      "outputs": [
        {
          "output_type": "stream",
          "text": [
            "The sum is 136\n"
          ],
          "name": "stdout"
        }
      ]
    }
  ]
}