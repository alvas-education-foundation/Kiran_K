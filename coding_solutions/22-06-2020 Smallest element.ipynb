{
  "nbformat": 4,
  "nbformat_minor": 0,
  "metadata": {
    "colab": {
      "name": "coding solution.ipynb",
      "provenance": [],
      "collapsed_sections": []
    },
    "kernelspec": {
      "name": "python3",
      "display_name": "Python 3"
    }
  },
  "cells": [
    {
      "cell_type": "markdown",
      "metadata": {
        "id": "byCNIccr1Q3H",
        "colab_type": "text"
      },
      "source": [
        "Program to find smallest element"
      ]
    },
    {
      "cell_type": "code",
      "metadata": {
        "id": "FbDxW6Gq1PqL",
        "colab_type": "code",
        "colab": {}
      },
      "source": [
        "#Initialize array     \n",
        "arr = [1, 2, 3, 4, 5];     \n",
        "     \n",
        "#Number of elements present in an array can be found using len()    \n",
        "print(\"Number of elements present in given array: \" + str(len(arr)));     "
      ],
      "execution_count": null,
      "outputs": []
    }
  ]
}