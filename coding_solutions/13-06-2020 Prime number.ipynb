{
  "nbformat": 4,
  "nbformat_minor": 0,
  "metadata": {
    "colab": {
      "name": "Untitled1.ipynb",
      "provenance": [],
      "collapsed_sections": []
    },
    "kernelspec": {
      "name": "python3",
      "display_name": "Python 3"
    }
  },
  "cells": [
    {
      "cell_type": "code",
      "metadata": {
        "id": "Z7ZurJOwhok-",
        "colab_type": "code",
        "colab": {}
      },
      "source": [
        "Prime numbers"
      ],
      "execution_count": 0,
      "outputs": []
    },
    {
      "cell_type": "code",
      "metadata": {
        "id": "yjyyWGbe6DW-",
        "colab_type": "code",
        "colab": {}
      },
      "source": [
        "# Python program to display all the prime numbers within an interval\n",
        "\n",
        "lower = 100\n",
        "upper = 200\n",
        "\n",
        "print(\"Prime numbers between\", lower, \"and\", upper, \"are:\")\n",
        "\n",
        "for num in range(lower, upper + 1):\n",
        "   if num > 1:\n",
        "       for i in range(2, num):\n",
        "           if (num % i) == 0:\n",
        "               break\n",
        "       else:\n",
        "           print(num)"
      ],
      "execution_count": 0,
      "outputs": []
    }
  ]
}