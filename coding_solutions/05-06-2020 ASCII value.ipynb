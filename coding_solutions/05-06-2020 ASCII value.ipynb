{
  "nbformat": 4,
  "nbformat_minor": 0,
  "metadata": {
    "colab": {
      "name": "Untitled1.ipynb",
      "provenance": []
    },
    "kernelspec": {
      "name": "python3",
      "display_name": "Python 3"
    }
  },
  "cells": [
    {
      "cell_type": "code",
      "metadata": {
        "id": "Z7ZurJOwhok-",
        "colab_type": "code",
        "colab": {}
      },
      "source": [
        "Program to find ASCII value"
      ],
      "execution_count": 0,
      "outputs": []
    },
    {
      "cell_type": "code",
      "metadata": {
        "id": "yjyyWGbe6DW-",
        "colab_type": "code",
        "outputId": "fc420c7b-7127-47a9-be18-4776cc46a7a7",
        "colab": {
          "base_uri": "https://localhost:8080/",
          "height": 50
        }
      },
      "source": [
        "c = input(\"Enter a character: \")  \n",
        "  \n",
        "print(\"The ASCII value of '\" + c + \"' is\",ord(c))  "
      ],
      "execution_count": 1,
      "outputs": [
        {
          "output_type": "stream",
          "text": [
            "Enter a character: k\n",
            "The ASCII value of 'k' is 107\n"
          ],
          "name": "stdout"
        }
      ]
    }
  ]
}