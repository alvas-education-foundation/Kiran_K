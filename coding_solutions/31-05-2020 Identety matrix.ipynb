{
  "nbformat": 4,
  "nbformat_minor": 0,
  "metadata": {
    "colab": {
      "name": "Untitled1.ipynb",
      "provenance": []
    },
    "kernelspec": {
      "name": "python3",
      "display_name": "Python 3"
    }
  },
  "cells": [
    {
      "cell_type": "code",
      "metadata": {
        "id": "Z7ZurJOwhok-",
        "colab_type": "code",
        "colab": {}
      },
      "source": [
        "Print identety matrix"
      ],
      "execution_count": 0,
      "outputs": []
    },
    {
      "cell_type": "code",
      "metadata": {
        "id": "yjyyWGbe6DW-",
        "colab_type": "code",
        "outputId": "753d0c3d-97b5-4471-ed9a-99b9c1bdc897",
        "colab": {
          "base_uri": "https://localhost:8080/",
          "height": 115
        }
      },
      "source": [
        "n=int(input(\"Enter a number: \"))\n",
        "for i in range(0,n):\n",
        "    for j in range(0,n):\n",
        "        if(i==j):\n",
        "            print(\"1\",sep=\" \",end=\" \")\n",
        "        else:\n",
        "            print(\"0\",sep=\" \",end=\" \")\n",
        "    print()"
      ],
      "execution_count": 3,
      "outputs": [
        {
          "output_type": "stream",
          "text": [
            "Enter a number: 5\n",
            "1 0 0 0 0 \n",
            "0 1 0 0 0 \n",
            "0 0 1 0 0 \n",
            "0 0 0 1 0 \n",
            "0 0 0 0 1 \n"
          ],
          "name": "stdout"
        }
      ]
    }
  ]
}