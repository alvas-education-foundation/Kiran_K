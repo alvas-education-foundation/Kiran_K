{
  "nbformat": 4,
  "nbformat_minor": 0,
  "metadata": {
    "colab": {
      "name": "Untitled1.ipynb",
      "provenance": [],
      "collapsed_sections": []
    },
    "kernelspec": {
      "name": "python3",
      "display_name": "Python 3"
    }
  },
  "cells": [
    {
      "cell_type": "code",
      "metadata": {
        "id": "Z7ZurJOwhok-",
        "colab_type": "code",
        "colab": {}
      },
      "source": [
        "Add two matrices"
      ],
      "execution_count": 0,
      "outputs": []
    },
    {
      "cell_type": "code",
      "metadata": {
        "id": "yjyyWGbe6DW-",
        "colab_type": "code",
        "outputId": "68f3e6ee-54bc-4f22-dae8-458ae63c68a0",
        "colab": {
          "base_uri": "https://localhost:8080/",
          "height": 33
        }
      },
      "source": [
        "# This program is to add two given matrices\n",
        "# We are using the concept of nested lists to represent matrix\n",
        "\n",
        "# first matrix\n",
        "M1 = [[1, 1, 1],\n",
        "      [1, 1, 1],\n",
        "      [1, 1, 1]]\n",
        "\n",
        "# second matrix\n",
        "M2 = [[1, 2, 3],\n",
        "      [4, 5, 6],\n",
        "      [7, 8, 9]]\n",
        "\n",
        "# In this matrix we will store the sum of above matrices\n",
        "# we have initialized all the elements of this matrix as zero\n",
        "sum = [[0, 0, 0],\n",
        "       [0, 0, 0],\n",
        "       [0, 0, 0]]\n",
        "\n",
        "# iterating the matrix\n",
        "# rows: number of nested lists in the main list\n",
        "# columns: number of elements in the nested lists\n",
        "for i in range(len(M1)):\n",
        "    for j in range(len(M1[0])):\n",
        "        sum[i][j] = M1[i][j] + M2[i][j]\n",
        "\n",
        "# displaying the output matrix\n",
        "for num in sum:\n",
        "    print(num)"
      ],
      "execution_count": 0,
      "outputs": [
        {
          "output_type": "stream",
          "text": [
            "The L.C.M. is 216\n"
          ],
          "name": "stdout"
        }
      ]
    }
  ]
}