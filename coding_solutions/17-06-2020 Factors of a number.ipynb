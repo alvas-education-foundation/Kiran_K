{
  "nbformat": 4,
  "nbformat_minor": 0,
  "metadata": {
    "colab": {
      "name": "coding solution.ipynb",
      "provenance": []
    },
    "kernelspec": {
      "name": "python3",
      "display_name": "Python 3"
    }
  },
  "cells": [
    {
      "cell_type": "markdown",
      "metadata": {
        "id": "byCNIccr1Q3H",
        "colab_type": "text"
      },
      "source": [
        "Quadratic equation"
      ]
    },
    {
      "cell_type": "code",
      "metadata": {
        "id": "FbDxW6Gq1PqL",
        "colab_type": "code",
        "colab": {
          "base_uri": "https://localhost:8080/",
          "height": 34
        },
        "outputId": "dc9e4c57-7f6b-45ab-9d86-777c192f4196"
      },
      "source": [
        "# Python Program to find the factors of a number\n",
        "\n",
        "# This function computes the factor of the argument passed\n",
        "def print_factors(x):\n",
        "   print(\"The factors of\",x,\"are:\")\n",
        "   for i in range(1, x + 1):\n",
        "       if x % i == 0:\n",
        "           print(i)\n",
        "\n",
        "num = 320\n",
        "\n",
        "print_factors(num)"
      ],
      "execution_count": null,
      "outputs": [
        {
          "output_type": "stream",
          "text": [
            "The solution are (-3+0j) and (-2+0j)\n"
          ],
          "name": "stdout"
        }
      ]
    }
  ]
}