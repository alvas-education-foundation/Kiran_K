{
  "nbformat": 4,
  "nbformat_minor": 0,
  "metadata": {
    "colab": {
      "name": "Untitled1.ipynb",
      "provenance": []
    },
    "kernelspec": {
      "name": "python3",
      "display_name": "Python 3"
    }
  },
  "cells": [
    {
      "cell_type": "markdown",
      "metadata": {
        "id": "mEWNMGebLgB-",
        "colab_type": "text"
      },
      "source": [
        "Python Program to Illustrate Different Set Operations"
      ]
    },
    {
      "cell_type": "markdown",
      "metadata": {
        "id": "wj7jU2zvLc5x",
        "colab_type": "text"
      },
      "source": [
        ""
      ]
    },
    {
      "cell_type": "code",
      "metadata": {
        "id": "yjyyWGbe6DW-",
        "colab_type": "code",
        "outputId": "f651bf4d-3797-4c28-dae8-306871ea3e49",
        "colab": {
          "base_uri": "https://localhost:8080/",
          "height": 87
        }
      },
      "source": [
        "\n",
        "E = {0, 2, 4, 6, 8};\n",
        "N = {1, 2, 3, 4, 5};\n",
        "\n",
        "# set union\n",
        "print(\"Union of E and N is\",E | N)\n",
        "\n",
        "# set intersection\n",
        "print(\"Intersection of E and N is\",E & N)\n",
        "\n",
        "# set difference\n",
        "print(\"Difference of E and N is\",E - N)\n",
        "\n",
        "# set symmetric difference\n",
        "print(\"Symmetric difference of E and N is\",E ^ N)"
      ],
      "execution_count": 2,
      "outputs": [
        {
          "output_type": "stream",
          "text": [
            "Union of E and N is {0, 1, 2, 3, 4, 5, 6, 8}\n",
            "Intersection of E and N is {2, 4}\n",
            "Difference of E and N is {0, 8, 6}\n",
            "Symmetric difference of E and N is {0, 1, 3, 5, 6, 8}\n"
          ],
          "name": "stdout"
        }
      ]
    }
  ]
}