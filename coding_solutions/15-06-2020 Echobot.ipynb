{
  "nbformat": 4,
  "nbformat_minor": 0,
  "metadata": {
    "colab": {
      "name": "Untitled1.ipynb",
      "provenance": [],
      "collapsed_sections": []
    },
    "kernelspec": {
      "name": "python3",
      "display_name": "Python 3"
    }
  },
  "cells": [
    {
      "cell_type": "code",
      "metadata": {
        "id": "Z7ZurJOwhok-",
        "colab_type": "code",
        "colab": {}
      },
      "source": [
        "Echobot"
      ],
      "execution_count": 0,
      "outputs": []
    },
    {
      "cell_type": "code",
      "metadata": {
        "id": "yjyyWGbe6DW-",
        "colab_type": "code",
        "outputId": "b6100ef2-2314-40e1-8890-755edd908c42",
        "colab": {
          "base_uri": "https://localhost:8080/",
          "height": 70
        }
      },
      "source": [
        "#Echobot which repeas whatever v type\n",
        "import time\n",
        "def respond(message):\n",
        "  time.sleep(0.5)\n",
        "  return (\"Yes i can c that u entered : \", message)\n",
        "\n",
        "print(\"Hi there i'm Echobot please enter what shud i echo\")\n",
        "str = input()\n",
        "respond(str)"
      ],
      "execution_count": 5,
      "outputs": [
        {
          "output_type": "stream",
          "text": [
            "Hi there i'm Echobot please enter what shud i echo\n",
            "fmsdf\n"
          ],
          "name": "stdout"
        },
        {
          "output_type": "execute_result",
          "data": {
            "text/plain": [
              "('Yes i can c that u entered {0}', 'fmsdf')"
            ]
          },
          "metadata": {
            "tags": []
          },
          "execution_count": 5
        }
      ]
    }
  ]
}