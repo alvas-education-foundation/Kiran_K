{
  "nbformat": 4,
  "nbformat_minor": 0,
  "metadata": {
    "colab": {
      "name": "Untitled1.ipynb",
      "provenance": []
    },
    "kernelspec": {
      "name": "python3",
      "display_name": "Python 3"
    }
  },
  "cells": [
    {
      "cell_type": "markdown",
      "metadata": {
        "id": "HC6juE9qslBs",
        "colab_type": "text"
      },
      "source": [
        "\n",
        "Given an array containing n distinct numbers taken from 0, 1, 2, ..., n, find the one that is missing from the array.\n",
        "\n",
        "Example 1:\n",
        "\n",
        "Input: [3,0,1] Output: 2 Example 2:\n",
        "\n",
        "Input: [9,6,4,2,3,5,7,0,1] Output: 8"
      ]
    },
    {
      "cell_type": "code",
      "metadata": {
        "id": "yjyyWGbe6DW-",
        "colab_type": "code",
        "outputId": "6fb32dfa-b4c3-4e92-a26b-d93f18e84857",
        "colab": {
          "base_uri": "https://localhost:8080/",
          "height": 52
        }
      },
      "source": [
        "array = list(map(int, input(\"Enter array : \").split()))\n",
        "print(\"Missing Number :\", sum(list(range(max(array)+1))) - sum(array))"
      ],
      "execution_count": 3,
      "outputs": [
        {
          "output_type": "stream",
          "text": [
            "Enter array : 9 6 4 2 3 5 7 0 1\n",
            "Missing Number : 8\n"
          ],
          "name": "stdout"
        }
      ]
    }
  ]
}