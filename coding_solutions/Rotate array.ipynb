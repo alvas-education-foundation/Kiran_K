{
  "nbformat": 4,
  "nbformat_minor": 0,
  "metadata": {
    "colab": {
      "name": "Untitled1.ipynb",
      "provenance": []
    },
    "kernelspec": {
      "name": "python3",
      "display_name": "Python 3"
    }
  },
  "cells": [
    {
      "cell_type": "code",
      "metadata": {
        "id": "yjyyWGbe6DW-",
        "colab_type": "code",
        "colab": {
          "base_uri": "https://localhost:8080/",
          "height": 70
        },
        "outputId": "8cd742ae-a615-4a91-c6cc-fa541abd90da"
      },
      "source": [
        "array = input(\"Enter array:\").split()\n",
        "k = int(input(\"Enter K value:\"))\n",
        "print(array[len(array)-k:]+array[:len(array)-k])"
      ],
      "execution_count": 1,
      "outputs": [
        {
          "output_type": "stream",
          "text": [
            "Enter array:2 5 8 6 2 4 6\n",
            "Enter K value:2\n",
            "['4', '6', '2', '5', '8', '6', '2']\n"
          ],
          "name": "stdout"
        }
      ]
    }
  ]
}