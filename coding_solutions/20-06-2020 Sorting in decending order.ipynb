{
  "nbformat": 4,
  "nbformat_minor": 0,
  "metadata": {
    "colab": {
      "name": "coding solution.ipynb",
      "provenance": [],
      "collapsed_sections": []
    },
    "kernelspec": {
      "name": "python3",
      "display_name": "Python 3"
    }
  },
  "cells": [
    {
      "cell_type": "markdown",
      "metadata": {
        "id": "byCNIccr1Q3H",
        "colab_type": "text"
      },
      "source": [
        "Sorting in decending order"
      ]
    },
    {
      "cell_type": "code",
      "metadata": {
        "id": "FbDxW6Gq1PqL",
        "colab_type": "code",
        "colab": {
          "base_uri": "https://localhost:8080/",
          "height": 34
        },
        "outputId": "f08f0734-a272-4f60-d196-01ceb8f01b6e"
      },
      "source": [
        "#Initialize array     \n",
        "arr = [5, 2, 8, 7, 1];     \n",
        "temp = 0;    \n",
        "     \n",
        "#Displaying elements of original array    \n",
        "print(\"Elements of original array: \");    \n",
        "for i in range(0, len(arr)):     \n",
        "    print(arr[i]),    \n",
        "     \n",
        "#Sort the array in descending order    \n",
        "for i in range(0, len(arr)):    \n",
        "    for j in range(i+1, len(arr)):    \n",
        "        if(arr[i] < arr[j]):    \n",
        "            temp = arr[i];    \n",
        "            arr[i] = arr[j];    \n",
        "            arr[j] = temp;    \n",
        "     \n",
        "print();    \n",
        "     \n",
        "#Displaying elements of array after sorting    \n",
        "print(\"Elements of array sorted in descending order: \");    \n",
        "for i in range(0, len(arr)):     \n",
        "    print(arr[i]),   "
      ],
      "execution_count": null,
      "outputs": [
        {
          "output_type": "stream",
          "text": [
            "The sum is 136\n"
          ],
          "name": "stdout"
        }
      ]
    }
  ]
}