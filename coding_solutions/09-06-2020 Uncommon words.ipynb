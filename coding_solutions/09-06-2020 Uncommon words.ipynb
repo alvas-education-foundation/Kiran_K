{
  "nbformat": 4,
  "nbformat_minor": 0,
  "metadata": {
    "colab": {
      "name": "Untitled1.ipynb",
      "provenance": [],
      "collapsed_sections": []
    },
    "kernelspec": {
      "name": "python3",
      "display_name": "Python 3"
    }
  },
  "cells": [
    {
      "cell_type": "code",
      "metadata": {
        "id": "Z7ZurJOwhok-",
        "colab_type": "code",
        "colab": {}
      },
      "source": [
        "Python3 program to find a list of uncommon words"
      ],
      "execution_count": 0,
      "outputs": []
    },
    {
      "cell_type": "code",
      "metadata": {
        "id": "yjyyWGbe6DW-",
        "colab_type": "code",
        "outputId": "ab7726fa-8498-458a-ed07-8b1c4ca62a15",
        "colab": {
          "base_uri": "https://localhost:8080/",
          "height": 163
        }
      },
      "source": [
        "\n",
        "  \n",
        "def UncommonWords(string1, string2): \n",
        "  \n",
        "    count = {} \n",
        "      \n",
        "    for word in string1.split(): \n",
        "        count[word] = count.get(word, 0) + 1\n",
        "        print(count)\n",
        "      \n",
        "    for word in string2.split(): \n",
        "        count[word] = count.get(word, 0) + 1\n",
        "        print(count)\n",
        "  \n",
        "    return [word for word in count if count[word] == 1] \n",
        "  \n",
        "string1 = \"Hello World\"\n",
        "string2 = \"Hello Everyone\"\n",
        "  \n",
        "print(UncommonWords(string1, string2))"
      ],
      "execution_count": 0,
      "outputs": [
        {
          "output_type": "stream",
          "text": [
            "Select operation.\n",
            "1.Add\n",
            "2.Subtract\n",
            "3.Multiply\n",
            "4.Divide\n",
            "Enter choice(1/2/3/4): 2\n",
            "Enter first number: 5\n",
            "Enter second number: 8\n",
            "5.0 - 8.0 = -3.0\n"
          ],
          "name": "stdout"
        }
      ]
    }
  ]
}