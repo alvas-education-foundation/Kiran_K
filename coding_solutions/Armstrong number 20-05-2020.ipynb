{
  "nbformat": 4,
  "nbformat_minor": 0,
  "metadata": {
    "colab": {
      "name": "Armstrong number",
      "provenance": []
    },
    "kernelspec": {
      "name": "python3",
      "display_name": "Python 3"
    }
  },
  "cells": [
    {
      "cell_type": "code",
      "metadata": {
        "id": "eNti7hBh4eT0",
        "colab_type": "code",
        "colab": {
          "base_uri": "https://localhost:8080/",
          "height": 372
        },
        "outputId": "7d4d801a-92c7-4d14-c371-3a43cf4a4c9f"
      },
      "source": [
        "j = 0\n",
        "while j<1000:\n",
        "    s = 0\n",
        "    n = str(j)\n",
        "    for i in n:\n",
        "        s+=int(i)**len(n)\n",
        "    if s==j:\n",
        "        print(j)\n",
        "    j+=1"
      ],
      "execution_count": 1,
      "outputs": [
        {
          "output_type": "stream",
          "text": [
            "0\n",
            "1\n",
            "2\n",
            "3\n",
            "4\n",
            "5\n",
            "6\n",
            "7\n",
            "8\n",
            "9\n",
            "153\n",
            "370\n",
            "371\n",
            "407\n",
            "1634\n",
            "8208\n",
            "9474\n",
            "54748\n",
            "92727\n",
            "93084\n"
          ],
          "name": "stdout"
        }
      ]
    }
  ]
}