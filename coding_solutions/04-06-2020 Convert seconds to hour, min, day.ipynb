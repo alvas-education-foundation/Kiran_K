{
  "nbformat": 4,
  "nbformat_minor": 0,
  "metadata": {
    "colab": {
      "name": "Untitled1.ipynb",
      "provenance": []
    },
    "kernelspec": {
      "name": "python3",
      "display_name": "Python 3"
    }
  },
  "cells": [
    {
      "cell_type": "code",
      "metadata": {
        "id": "Z7ZurJOwhok-",
        "colab_type": "code",
        "colab": {}
      },
      "source": [
        "# Write a Python program to convert seconds to day, hour, minutes and seconds\n"
      ],
      "execution_count": 0,
      "outputs": []
    },
    {
      "cell_type": "code",
      "metadata": {
        "id": "yjyyWGbe6DW-",
        "colab_type": "code",
        "outputId": "9cc9d6d0-6d03-4968-e5bf-7bb705358d65",
        "colab": {
          "base_uri": "https://localhost:8080/",
          "height": 98
        }
      },
      "source": [
        "\n",
        "\n",
        "time = float(input(\"Input time in seconds: \"))\n",
        "day = time // (24 * 3600)\n",
        "time = time % (24 * 3600)\n",
        "hour = time // 3600\n",
        "time %= 3600\n",
        "minutes = time // 60\n",
        "time %= 60\n",
        "seconds = time\n",
        "print(\"day:-> %d\" % (day))\n",
        "print(\"hour:-> %d\" % (hour))\n",
        "print(\"minutes:-> %d\" % (minutes))\n",
        "print(\"seconds:-> %d\" % (seconds))"
      ],
      "execution_count": 1,
      "outputs": [
        {
          "output_type": "stream",
          "text": [
            "Input time in seconds: 51\n",
            "day:-> 0\n",
            "hour:-> 0\n",
            "minutes:-> 0\n",
            "seconds:-> 51\n"
          ],
          "name": "stdout"
        }
      ]
    }
  ]
}