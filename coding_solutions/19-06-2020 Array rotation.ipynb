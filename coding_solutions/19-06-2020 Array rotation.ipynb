{
  "nbformat": 4,
  "nbformat_minor": 0,
  "metadata": {
    "colab": {
      "name": "coding solution.ipynb",
      "provenance": [],
      "collapsed_sections": []
    },
    "kernelspec": {
      "name": "python3",
      "display_name": "Python 3"
    }
  },
  "cells": [
    {
      "cell_type": "markdown",
      "metadata": {
        "id": "byCNIccr1Q3H",
        "colab_type": "text"
      },
      "source": [
        "Array rotation"
      ]
    },
    {
      "cell_type": "code",
      "metadata": {
        "id": "FbDxW6Gq1PqL",
        "colab_type": "code",
        "colab": {
          "base_uri": "https://localhost:8080/",
          "height": 34
        },
        "outputId": "f08f0734-a272-4f60-d196-01ceb8f01b6e"
      },
      "source": [
        "\n",
        "def leftRotate(arr, d, n): \n",
        "    for i in range(d): \n",
        "        leftRotatebyOne(arr, n) \n",
        "  \n",
        "#Function to left Rotate arr[] of size n by 1*/  \n",
        "def leftRotatebyOne(arr, n): \n",
        "    temp = arr[0] \n",
        "    for i in range(n-1): \n",
        "        arr[i] = arr[i+1] \n",
        "    arr[n-1] = temp \n",
        "          \n",
        "  \n",
        "# utility function to print an array */ \n",
        "def printArray(arr,size): \n",
        "    for i in range(size): \n",
        "        print (\"%d\"% arr[i],end=\" \") \n",
        "  \n",
        "   \n",
        "# Driver program to test above functions */ \n",
        "arr = [1, 2, 3, 4, 5, 6, 7] \n",
        "leftRotate(arr, 2, 7) \n",
        "printArray(arr, 7) \n"
      ],
      "execution_count": null,
      "outputs": [
        {
          "output_type": "stream",
          "text": [
            "The sum is 136\n"
          ],
          "name": "stdout"
        }
      ]
    }
  ]
}