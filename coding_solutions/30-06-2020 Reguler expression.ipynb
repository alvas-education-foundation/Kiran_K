{
  "nbformat": 4,
  "nbformat_minor": 0,
  "metadata": {
    "colab": {
      "name": "coding solution.ipynb",
      "provenance": [],
      "collapsed_sections": []
    },
    "kernelspec": {
      "name": "python3",
      "display_name": "Python 3"
    }
  },
  "cells": [
    {
      "cell_type": "markdown",
      "metadata": {
        "id": "byCNIccr1Q3H",
        "colab_type": "text"
      },
      "source": [
        "Reguler expression\n"
      ]
    },
    {
      "cell_type": "code",
      "metadata": {
        "id": "FbDxW6Gq1PqL",
        "colab_type": "code",
        "colab": {}
      },
      "source": [
        "import re\n",
        "for test_string in ['555-1212', 'ILL-EGAL']:\n",
        "    if re.match(r'^\\d{3}-\\d{4}$', test_string):\n",
        "        print (test_string, 'is a valid US local phone number')\n",
        "    else:\n",
        "        print (test_string, 'rejected')"
      ],
      "execution_count": null,
      "outputs": []
    }
  ]
}