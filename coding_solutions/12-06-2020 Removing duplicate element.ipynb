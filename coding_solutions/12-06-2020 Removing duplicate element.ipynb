{
  "nbformat": 4,
  "nbformat_minor": 0,
  "metadata": {
    "colab": {
      "name": "Untitled1.ipynb",
      "provenance": [],
      "collapsed_sections": []
    },
    "kernelspec": {
      "name": "python3",
      "display_name": "Python 3"
    }
  },
  "cells": [
    {
      "cell_type": "code",
      "metadata": {
        "id": "Z7ZurJOwhok-",
        "colab_type": "code",
        "colab": {}
      },
      "source": [
        "Remove duplicate element"
      ],
      "execution_count": 0,
      "outputs": []
    },
    {
      "cell_type": "code",
      "metadata": {
        "id": "yjyyWGbe6DW-",
        "colab_type": "code",
        "outputId": "f285f514-9ac3-4299-9683-df61406f3b0c",
        "colab": {
          "base_uri": "https://localhost:8080/",
          "height": 66
        }
      },
      "source": [
        "# Python program to remove duplicate elements from a list\n",
        "\n",
        "n = int(input())\n",
        "elements = []\n",
        "\n",
        "for i in range(0, n):\n",
        "    elements.append(int(input()))\n",
        "\n",
        "result = list(sorted(set(elements)))\n",
        "\n",
        "print(result)"
      ],
      "execution_count": 0,
      "outputs": [
        {
          "output_type": "stream",
          "text": [
            "[2, 3, 4]\n",
            "[5, 6, 7]\n",
            "[8, 9, 10]\n"
          ],
          "name": "stdout"
        }
      ]
    }
  ]
}