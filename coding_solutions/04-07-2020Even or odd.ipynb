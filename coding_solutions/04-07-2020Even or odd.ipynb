{
  "nbformat": 4,
  "nbformat_minor": 0,
  "metadata": {
    "colab": {
      "name": "coding solution.ipynb",
      "provenance": [],
      "collapsed_sections": []
    },
    "kernelspec": {
      "name": "python3",
      "display_name": "Python 3"
    }
  },
  "cells": [
    {
      "cell_type": "markdown",
      "metadata": {
        "id": "byCNIccr1Q3H",
        "colab_type": "text"
      },
      "source": [
        "Even or odd"
      ]
    },
    {
      "cell_type": "code",
      "metadata": {
        "id": "FbDxW6Gq1PqL",
        "colab_type": "code",
        "colab": {}
      },
      "source": [
        "num = int(input(\"Enter any number: \"))\n",
        "flag = num%2\n",
        "if flag == 0:\n",
        "    print(num, \"is an even number\")\n",
        "elif flag == 1:\n",
        "    print(num, \"is an odd number\")\n",
        "else:\n",
        "    print(\"Error, Invalid input\")"
      ],
      "execution_count": null,
      "outputs": []
    }
  ]
}