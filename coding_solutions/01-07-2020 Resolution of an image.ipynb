{
  "nbformat": 4,
  "nbformat_minor": 0,
  "metadata": {
    "colab": {
      "name": "coding solution.ipynb",
      "provenance": [],
      "collapsed_sections": []
    },
    "kernelspec": {
      "name": "python3",
      "display_name": "Python 3"
    }
  },
  "cells": [
    {
      "cell_type": "markdown",
      "metadata": {
        "id": "byCNIccr1Q3H",
        "colab_type": "text"
      },
      "source": [
        "Reguler expression\n"
      ]
    },
    {
      "cell_type": "code",
      "metadata": {
        "id": "FbDxW6Gq1PqL",
        "colab_type": "code",
        "colab": {}
      },
      "source": [
        "def jpeg_res(filename):\n",
        "   \"\"\"\"This function prints the resolution of the jpeg image file passed into it\"\"\"\n",
        "\n",
        "   # open image for reading in binary mode\n",
        "   with open(filename,'rb') as img_file:\n",
        "\n",
        "       # height of image (in 2 bytes) is at 164th position\n",
        "       img_file.seek(163)\n",
        "\n",
        "       # read the 2 bytes\n",
        "       a = img_file.read(2)\n",
        "\n",
        "       # calculate height\n",
        "       height = (a[0] << 8) + a[1]\n",
        "\n",
        "       # next 2 bytes is width\n",
        "       a = img_file.read(2)\n",
        "\n",
        "       # calculate width\n",
        "       width = (a[0] << 8) + a[1]\n",
        "\n",
        "   print(\"The resolution of the image is\",width,\"x\",height)\n",
        "\n",
        "jpeg_res(\"img1.jpg\")"
      ],
      "execution_count": null,
      "outputs": []
    }
  ]
}