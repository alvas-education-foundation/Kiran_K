{
  "nbformat": 4,
  "nbformat_minor": 0,
  "metadata": {
    "colab": {
      "name": "coding solution.ipynb",
      "provenance": [],
      "collapsed_sections": []
    },
    "kernelspec": {
      "name": "python3",
      "display_name": "Python 3"
    }
  },
  "cells": [
    {
      "cell_type": "markdown",
      "metadata": {
        "id": "byCNIccr1Q3H",
        "colab_type": "text"
      },
      "source": [
        "Merge mails"
      ]
    },
    {
      "cell_type": "code",
      "metadata": {
        "id": "FbDxW6Gq1PqL",
        "colab_type": "code",
        "colab": {}
      },
      "source": [
        "# Python program to mail merger\n",
        "# Names are in the file names.txt\n",
        "# Body of the mail is in body.txt\n",
        "\n",
        "# open names.txt for reading\n",
        "with open(\"names.txt\",'r',encoding = 'utf-8') as names_file:\n",
        "\n",
        "   # open body.txt for reading\n",
        "   with open(\"body.txt\",'r',encoding = 'utf-8') as body_file:\n",
        "   \n",
        "       # read entire content of the body\n",
        "       body = body_file.read()\n",
        "\n",
        "       # iterate over names\n",
        "       for name in names_file:\n",
        "           mail = \"Hello \"+name+body\n",
        "\n",
        "           # write the mails to individual files\n",
        "           with open(name.strip()+\".txt\",'w',encoding = 'utf-8') as mail_file:\n",
        "               mail_file.write(mail)"
      ],
      "execution_count": null,
      "outputs": []
    }
  ]
}