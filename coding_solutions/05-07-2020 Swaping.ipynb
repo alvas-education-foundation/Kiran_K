{
  "nbformat": 4,
  "nbformat_minor": 0,
  "metadata": {
    "colab": {
      "name": "coding solution.ipynb",
      "provenance": [],
      "collapsed_sections": []
    },
    "kernelspec": {
      "name": "python3",
      "display_name": "Python 3"
    }
  },
  "cells": [
    {
      "cell_type": "markdown",
      "metadata": {
        "id": "byCNIccr1Q3H",
        "colab_type": "text"
      },
      "source": [
        "Even or odd"
      ]
    },
    {
      "cell_type": "code",
      "metadata": {
        "id": "FbDxW6Gq1PqL",
        "colab_type": "code",
        "colab": {}
      },
      "source": [
        "# Python program to swap two variables\n",
        "\n",
        "x = 5\n",
        "y = 10\n",
        "\n",
        "# To take inputs from the user\n",
        "#x = input('Enter value of x: ')\n",
        "#y = input('Enter value of y: ')\n",
        "\n",
        "# create a temporary variable and swap the values\n",
        "temp = x\n",
        "x = y\n",
        "y = temp\n",
        "\n",
        "print('The value of x after swapping: {}'.format(x))\n",
        "print('The value of y after swapping: {}'.format(y))"
      ],
      "execution_count": null,
      "outputs": []
    }
  ]
}