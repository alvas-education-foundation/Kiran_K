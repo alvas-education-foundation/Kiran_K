{
  "nbformat": 4,
  "nbformat_minor": 0,
  "metadata": {
    "colab": {
      "name": "Untitled1.ipynb",
      "provenance": []
    },
    "kernelspec": {
      "name": "python3",
      "display_name": "Python 3"
    }
  },
  "cells": [
    {
      "cell_type": "code",
      "metadata": {
        "id": "Z7ZurJOwhok-",
        "colab_type": "code",
        "colab": {}
      },
      "source": [
        "Micro and Array update"
      ],
      "execution_count": 0,
      "outputs": []
    },
    {
      "cell_type": "code",
      "metadata": {
        "id": "yjyyWGbe6DW-",
        "colab_type": "code",
        "outputId": "06451ec7-e28b-4366-823e-99d24f5db7c4",
        "colab": {
          "base_uri": "https://localhost:8080/",
          "height": 131
        }
      },
      "source": [
        "test_cases=int(input())\n",
        "for i in range(test_cases):\n",
        "    N, K = map(int,input().split())\n",
        "    array = list(map(int, input().split()))\n",
        "    if K > min(array):\n",
        "        print(K - min(array))\n",
        "    else:\n",
        "        print(\"0\")"
      ],
      "execution_count": 3,
      "outputs": [
        {
          "output_type": "stream",
          "text": [
            "2\n",
            "4 5\n",
            "2 4 5\n",
            "3\n",
            "2 4\n",
            "2 6 4\n",
            "2\n"
          ],
          "name": "stdout"
        }
      ]
    }
  ]
}