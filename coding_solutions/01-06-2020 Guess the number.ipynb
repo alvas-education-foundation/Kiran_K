{
  "nbformat": 4,
  "nbformat_minor": 0,
  "metadata": {
    "colab": {
      "name": "Untitled1.ipynb",
      "provenance": []
    },
    "kernelspec": {
      "name": "python3",
      "display_name": "Python 3"
    }
  },
  "cells": [
    {
      "cell_type": "code",
      "metadata": {
        "id": "Z7ZurJOwhok-",
        "colab_type": "code",
        "colab": {}
      },
      "source": [
        "Guess the number"
      ],
      "execution_count": 0,
      "outputs": []
    },
    {
      "cell_type": "code",
      "metadata": {
        "id": "yjyyWGbe6DW-",
        "colab_type": "code",
        "outputId": "1f3da387-f8ed-4365-cad1-07d7a48051d8",
        "colab": {
          "base_uri": "https://localhost:8080/",
          "height": 118
        }
      },
      "source": [
        "import random\n",
        "\n",
        "guesses_made = 0\n",
        "\n",
        "name = input('Hello! What is your name?\\n')\n",
        "\n",
        "number = random.randint(1, 20)\n",
        "print ('Well, {0}, I am thinking of a number between 1 and 20.'.format(name))\n",
        "\n",
        "while guesses_made < 6:\n",
        "\n",
        "    guess = int(input('Take a guess: '))\n",
        "\n",
        "    guesses_made += 1\n",
        "\n",
        "    if guess < number:\n",
        "        print ('Your guess is too low.')\n",
        "\n",
        "    if guess > number:\n",
        "        print ('Your guess is too high.')\n",
        "\n",
        "    if guess == number:\n",
        "        break\n",
        "\n",
        "if guess == number:\n",
        "    print ('Good job, {0}! You guessed my number in {1} guesses!'.format(name, guesses_made))\n",
        "else:\n",
        "    print ('Nope. The number I was thinking of was {0}'.format(number))"
      ],
      "execution_count": 0,
      "outputs": [
        {
          "output_type": "stream",
          "text": [
            "Hello! What is your name?\n",
            "Kiran\n",
            "Well, Kiran, I am thinking of a number between 1 and 20.\n",
            "Take a guess: 5\n",
            "Your guess is too low.\n"
          ],
          "name": "stdout"
        }
      ]
    }
  ]
}