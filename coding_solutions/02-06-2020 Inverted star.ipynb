{
  "nbformat": 4,
  "nbformat_minor": 0,
  "metadata": {
    "colab": {
      "name": "Untitled1.ipynb",
      "provenance": []
    },
    "kernelspec": {
      "name": "python3",
      "display_name": "Python 3"
    }
  },
  "cells": [
    {
      "cell_type": "code",
      "metadata": {
        "id": "Z7ZurJOwhok-",
        "colab_type": "code",
        "colab": {}
      },
      "source": [
        "Inverted star"
      ],
      "execution_count": 0,
      "outputs": []
    },
    {
      "cell_type": "code",
      "metadata": {
        "id": "yjyyWGbe6DW-",
        "colab_type": "code",
        "outputId": "1f3da387-f8ed-4365-cad1-07d7a48051d8",
        "colab": {
          "base_uri": "https://localhost:8080/",
          "height": 118
        }
      },
      "source": [
        "n=int(input(\"Enter number of rows: \"))\n",
        "for i in range (n,0,-1):\n",
        "    print((n-i) * ' ' + i * '*')"
      ],
      "execution_count": 0,
      "outputs": [
        {
          "output_type": "stream",
          "text": [
            "Hello! What is your name?\n",
            "Kiran\n",
            "Well, Kiran, I am thinking of a number between 1 and 20.\n",
            "Take a guess: 5\n",
            "Your guess is too low.\n"
          ],
          "name": "stdout"
        }
      ]
    }
  ]
}